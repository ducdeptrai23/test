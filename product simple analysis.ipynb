{
 "cells": [
  {
   "cell_type": "code",
   "execution_count": 2,
   "id": "employed-frontier",
   "metadata": {},
   "outputs": [],
   "source": [
    "import pandas as pd\n",
    "import numpy as np\n",
    "from datetime import datetime, timedelta"
   ]
  },
  {
   "cell_type": "code",
   "execution_count": 3,
   "id": "exciting-plate",
   "metadata": {},
   "outputs": [],
   "source": [
    "\n",
    "path = r' #copy path here\n",
    "data = pd.read_csv(path)"
   ]
  },
  {
   "cell_type": "code",
   "execution_count": 20,
   "metadata": {},
   "outputs": [],
   "source": [
    "df = data.copy()"
   ]
  },
  {
   "cell_type": "code",
   "execution_count": 21,
   "metadata": {},
   "outputs": [],
   "source": [
    "def cleaning_data (df, date_begin, day_window = 3, **args):\n",
    "    #format date \n",
    "    df['act_date'] = pd.to_datetime(df['act_date'])\n",
    "    df['day0_date'] = pd.to_datetime(df['day0_date'])\n",
    "    #remove missing and useless values\n",
    "    ind = df[df.day_diff < 0].index\n",
    "    df.drop(ind, axis= 0, inplace=True)\n",
    "    #query data\n",
    "    day_range = pd.date_range(start = date_begin, periods=day_window, freq='1D' )\n",
    "    df.query('day0_date in @day_range', inplace = True)\n",
    "    df = df[df.country == args ['country']]\n",
    "    df = df[df.media_source == args['media_source']]\n",
    "    df = df[df.app_version == args['app_version']]\n",
    "    return df    \n",
    "\n",
    "    "
   ]
  },
  {
   "cell_type": "code",
   "execution_count": 22,
   "metadata": {},
   "outputs": [],
   "source": [
    "df_pivot = cleaning_data(df, date_begin = '2021-02-20', country = 'United States', media_source = 'Organic', app_version = '1.0.4')"
   ]
  },
  {
   "cell_type": "code",
   "execution_count": 27,
   "metadata": {},
   "outputs": [],
   "source": [
    "def game_info_simple(df_pivot, date_begin = '2021-02-20', day_window = 3):\n",
    "    df_pivot = df_pivot.groupby('day_diff').agg({'dau':np.sum, 'time_in_game_sum':np.mean, 'rv_imp_sum':np.mean, 'is_imp_sum':np.mean, 'battle_end_sum':np.mean, 'battle_play_sum':np.mean}).loc[:day_window]\n",
    "    df_pivot['dau'] = df_pivot['dau']/df_pivot.iloc[0,0]\n",
    "    #add grand total row\n",
    "    df_pivot.loc['Grand Total'] = df_pivot.sum(axis = 0)\n",
    "    return df_pivot\n"
   ]
  },
  {
   "cell_type": "code",
   "execution_count": 28,
   "metadata": {},
   "outputs": [
    {
     "output_type": "execute_result",
     "data": {
      "text/plain": [
       "                  dau  time_in_game_sum  rv_imp_sum  is_imp_sum  \\\n",
       "day_diff                                                          \n",
       "0            1.000000        299.885891    0.913449    1.719041   \n",
       "1            0.137150        404.228583    0.741935    1.722581   \n",
       "2            0.061252        244.447326    0.240000    0.773333   \n",
       "3            0.047936        271.743861    0.545455    0.800000   \n",
       "Grand Total  1.246338       1220.305661    2.440839    5.014955   \n",
       "\n",
       "             battle_end_sum  battle_play_sum  \n",
       "day_diff                                      \n",
       "0                  8.179760         8.972037  \n",
       "1                  6.296774         7.006452  \n",
       "2                  3.573333         4.213333  \n",
       "3                  4.654545         5.327273  \n",
       "Grand Total       22.704413        25.519095  "
      ],
      "text/html": "<div>\n<style scoped>\n    .dataframe tbody tr th:only-of-type {\n        vertical-align: middle;\n    }\n\n    .dataframe tbody tr th {\n        vertical-align: top;\n    }\n\n    .dataframe thead th {\n        text-align: right;\n    }\n</style>\n<table border=\"1\" class=\"dataframe\">\n  <thead>\n    <tr style=\"text-align: right;\">\n      <th></th>\n      <th>dau</th>\n      <th>time_in_game_sum</th>\n      <th>rv_imp_sum</th>\n      <th>is_imp_sum</th>\n      <th>battle_end_sum</th>\n      <th>battle_play_sum</th>\n    </tr>\n    <tr>\n      <th>day_diff</th>\n      <th></th>\n      <th></th>\n      <th></th>\n      <th></th>\n      <th></th>\n      <th></th>\n    </tr>\n  </thead>\n  <tbody>\n    <tr>\n      <th>0</th>\n      <td>1.000000</td>\n      <td>299.885891</td>\n      <td>0.913449</td>\n      <td>1.719041</td>\n      <td>8.179760</td>\n      <td>8.972037</td>\n    </tr>\n    <tr>\n      <th>1</th>\n      <td>0.137150</td>\n      <td>404.228583</td>\n      <td>0.741935</td>\n      <td>1.722581</td>\n      <td>6.296774</td>\n      <td>7.006452</td>\n    </tr>\n    <tr>\n      <th>2</th>\n      <td>0.061252</td>\n      <td>244.447326</td>\n      <td>0.240000</td>\n      <td>0.773333</td>\n      <td>3.573333</td>\n      <td>4.213333</td>\n    </tr>\n    <tr>\n      <th>3</th>\n      <td>0.047936</td>\n      <td>271.743861</td>\n      <td>0.545455</td>\n      <td>0.800000</td>\n      <td>4.654545</td>\n      <td>5.327273</td>\n    </tr>\n    <tr>\n      <th>Grand Total</th>\n      <td>1.246338</td>\n      <td>1220.305661</td>\n      <td>2.440839</td>\n      <td>5.014955</td>\n      <td>22.704413</td>\n      <td>25.519095</td>\n    </tr>\n  </tbody>\n</table>\n</div>"
     },
     "metadata": {},
     "execution_count": 28
    }
   ],
   "source": [
    "game_info_simple(df_pivot)"
   ]
  },
  {
   "cell_type": "code",
   "execution_count": null,
   "metadata": {},
   "outputs": [],
   "source": []
  }
 ],
 "metadata": {
  "kernelspec": {
   "display_name": "Python 3",
   "language": "python",
   "name": "python3"
  },
  "language_info": {
   "codemirror_mode": {
    "name": "ipython",
    "version": 3
   },
   "file_extension": ".py",
   "mimetype": "text/x-python",
   "name": "python",
   "nbconvert_exporter": "python",
   "pygments_lexer": "ipython3",
   "version": "3.9.2-final"
  }
 },
 "nbformat": 4,
 "nbformat_minor": 5
}