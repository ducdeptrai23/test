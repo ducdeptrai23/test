{
 "metadata": {
  "language_info": {
   "codemirror_mode": {
    "name": "ipython",
    "version": 3
   },
   "file_extension": ".py",
   "mimetype": "text/x-python",
   "name": "python",
   "nbconvert_exporter": "python",
   "pygments_lexer": "ipython3",
   "version": "3.9.2"
  },
  "orig_nbformat": 2,
  "kernelspec": {
   "name": "python392jvsc74a57bd0dcacb0086e9a4f4eabd41c33bf4faac5ea0a3337ed3f5eff0680afa930572c04",
   "display_name": "Python 3.9.2 64-bit"
  }
 },
 "nbformat": 4,
 "nbformat_minor": 2,
 "cells": [
  {
   "cell_type": "code",
   "execution_count": 1,
   "metadata": {},
   "outputs": [],
   "source": [
    "import numpy as np"
   ]
  },
  {
   "cell_type": "code",
   "execution_count": 2,
   "metadata": {},
   "outputs": [],
   "source": [
    "arr_a = [1,2,3,2,3,4,3,4,5,6]\n",
    "arr_b = [7,2,10,2,7,4,9,4,9,8]"
   ]
  },
  {
   "cell_type": "code",
   "execution_count": 3,
   "metadata": {},
   "outputs": [
    {
     "output_type": "execute_result",
     "data": {
      "text/plain": [
       "array([2, 4])"
      ]
     },
     "metadata": {},
     "execution_count": 3
    }
   ],
   "source": [
    "#find matching values in two 1D array\n",
    "arr_c = np.intersect1d(arr_a, arr_b)\n",
    "arr_c"
   ]
  },
  {
   "cell_type": "code",
   "execution_count": 15,
   "metadata": {},
   "outputs": [
    {
     "output_type": "execute_result",
     "data": {
      "text/plain": [
       "array([1, 3, 5, 6])"
      ]
     },
     "metadata": {},
     "execution_count": 15
    }
   ],
   "source": [
    "#find values in array a but not in array b\n",
    "arr_d1 = np.setdiff1d(arr_a, arr_b)\n",
    "arr_d1"
   ]
  },
  {
   "cell_type": "code",
   "execution_count": 12,
   "metadata": {},
   "outputs": [],
   "source": [
    "arr_e = np.array([2,6,1,9,10,3,27,8,6,25,16])"
   ]
  },
  {
   "cell_type": "code",
   "execution_count": 14,
   "metadata": {},
   "outputs": [
    {
     "output_type": "execute_result",
     "data": {
      "text/plain": [
       "array([6, 9, 8, 6])"
      ]
     },
     "metadata": {},
     "execution_count": 14
    }
   ],
   "source": [
    "#filter values in an 1D array based on conditions\n",
    "arr_f = arr_e[(arr_e > 5) & (arr_e < 10)]\n",
    "arr_f"
   ]
  },
  {
   "source": [
    "## PYTHON NGÀY 29 THÁNG 5\n"
   ],
   "cell_type": "markdown",
   "metadata": {}
  },
  {
   "cell_type": "code",
   "execution_count": 1,
   "metadata": {},
   "outputs": [],
   "source": [
    "import numpy as np\n",
    "import pandas as pd "
   ]
  },
  {
   "cell_type": "code",
   "execution_count": 38,
   "metadata": {},
   "outputs": [
    {
     "output_type": "stream",
     "name": "stdout",
     "text": [
      "0     2\n1     4\n2     6\n3     8\n4    10\ndtype: int64\n0    1\n1    3\n2    5\n3    7\n4    9\ndtype: int64\n"
     ]
    }
   ],
   "source": [
    "#create series\n",
    "ser1 = pd.Series([2,4,6,8,10])\n",
    "ser2 = pd.Series([1,3,5,7,9])\n",
    "print(ser1)\n",
    "print(ser2)"
   ]
  },
  {
   "cell_type": "code",
   "execution_count": 7,
   "metadata": {},
   "outputs": [
    {
     "output_type": "stream",
     "name": "stdout",
     "text": [
      "0     3\n1     7\n2    11\n3    15\n4    19\ndtype: int64\n0    1\n1    1\n2    1\n3    1\n4    1\ndtype: int64\n0     2\n1    12\n2    30\n3    56\n4    90\ndtype: int64\n0    2.000000\n1    1.333333\n2    1.200000\n3    1.142857\n4    1.111111\ndtype: float64\n"
     ]
    }
   ],
   "source": [
    "#thuc hien cac phep toan tren Series\n",
    "s = ser1+ser2\n",
    "print(s)\n",
    "m = ser1-ser2\n",
    "print(m)\n",
    "t = ser1*ser2\n",
    "print(t)\n",
    "t1 = ser1/ser2\n",
    "print(t1)"
   ]
  },
  {
   "cell_type": "code",
   "execution_count": 16,
   "metadata": {},
   "outputs": [
    {
     "output_type": "stream",
     "name": "stdout",
     "text": [
      "0     2\n1     4\n2     6\n3     8\n4    10\ndtype: int64\n"
     ]
    }
   ],
   "source": [
    "#kiem tra xem cac phan tu cua ser1 co lon hon cac phan tu cua ser2 ko\n",
    "print(ser1[ser1 > ser2])"
   ]
  },
  {
   "cell_type": "code",
   "execution_count": 26,
   "metadata": {},
   "outputs": [
    {
     "output_type": "execute_result",
     "data": {
      "text/plain": [
       "0     1\n",
       "1     3\n",
       "2     5\n",
       "3     7\n",
       "4     9\n",
       "5     6\n",
       "6    12\n",
       "dtype: int64"
      ]
     },
     "metadata": {},
     "execution_count": 26
    }
   ],
   "source": [
    "#them 2 phan tu vao ser2\n",
    "ser2 = ser2.append(pd.Series([6,12]), ignore_index=True)\n",
    "ser2\n",
    "\n"
   ]
  },
  {
   "cell_type": "code",
   "execution_count": 28,
   "metadata": {},
   "outputs": [
    {
     "output_type": "execute_result",
     "data": {
      "text/plain": [
       "0    6\n",
       "dtype: int64"
      ]
     },
     "metadata": {},
     "execution_count": 28
    }
   ],
   "source": [
    "#tim phan tu co trong ca hai series\n",
    "ser3 = pd.Series(np.intersect1d(ser1, ser2))\n",
    "ser3"
   ]
  },
  {
   "cell_type": "code",
   "execution_count": 41,
   "metadata": {},
   "outputs": [
    {
     "output_type": "execute_result",
     "data": {
      "text/plain": [
       "0    1\n",
       "1    3\n",
       "2    5\n",
       "3    7\n",
       "4    9\n",
       "dtype: int64"
      ]
     },
     "metadata": {},
     "execution_count": 41
    }
   ],
   "source": [
    "#tim phan tu chi co trong ser2 ma khong co trong ser1\n",
    "ser4 = ser2[~ser2.isin(ser1)]\n",
    "ser4"
   ]
  },
  {
   "source": [
    "Truy xuất các phần tử và thống kê thông tin trên series"
   ],
   "cell_type": "markdown",
   "metadata": {}
  },
  {
   "cell_type": "code",
   "execution_count": 53,
   "metadata": {},
   "outputs": [
    {
     "output_type": "execute_result",
     "data": {
      "text/plain": [
       "0     9\n",
       "1     9\n",
       "2     7\n",
       "3     3\n",
       "4     9\n",
       "5     8\n",
       "6     3\n",
       "7     2\n",
       "8     6\n",
       "9     5\n",
       "10    5\n",
       "11    6\n",
       "12    8\n",
       "13    4\n",
       "14    7\n",
       "15    5\n",
       "16    4\n",
       "17    8\n",
       "18    7\n",
       "19    2\n",
       "20    4\n",
       "21    6\n",
       "22    9\n",
       "23    5\n",
       "24    7\n",
       "25    4\n",
       "26    3\n",
       "27    1\n",
       "28    5\n",
       "29    3\n",
       "30    5\n",
       "31    2\n",
       "32    8\n",
       "33    9\n",
       "34    3\n",
       "dtype: int32"
      ]
     },
     "metadata": {},
     "execution_count": 53
    }
   ],
   "source": [
    "#tao series ngau nhien\n",
    "np.random.seed(2)\n",
    "ser6 = pd.Series(np.random.randint(1,10, size = 35))\n",
    "ser6"
   ]
  },
  {
   "cell_type": "code",
   "execution_count": 49,
   "metadata": {},
   "outputs": [
    {
     "output_type": "execute_result",
     "data": {
      "text/plain": [
       "(35,)"
      ]
     },
     "metadata": {},
     "execution_count": 49
    }
   ],
   "source": [
    "ser6.shape"
   ]
  },
  {
   "cell_type": "code",
   "execution_count": 50,
   "metadata": {},
   "outputs": [
    {
     "output_type": "execute_result",
     "data": {
      "text/plain": [
       "0    9\n",
       "1    9\n",
       "2    7\n",
       "3    3\n",
       "4    9\n",
       "dtype: int32"
      ]
     },
     "metadata": {},
     "execution_count": 50
    }
   ],
   "source": [
    "ser6.head()"
   ]
  },
  {
   "cell_type": "code",
   "execution_count": 51,
   "metadata": {},
   "outputs": [
    {
     "output_type": "execute_result",
     "data": {
      "text/plain": [
       "30    5\n",
       "31    2\n",
       "32    8\n",
       "33    9\n",
       "34    3\n",
       "dtype: int32"
      ]
     },
     "metadata": {},
     "execution_count": 51
    }
   ],
   "source": [
    "ser6.tail()"
   ]
  },
  {
   "cell_type": "code",
   "execution_count": 52,
   "metadata": {},
   "outputs": [
    {
     "output_type": "execute_result",
     "data": {
      "text/plain": [
       "array([9, 9, 7, 3, 9, 8, 3, 2, 6, 5, 5, 6, 8, 4, 7, 5, 4, 8, 7, 2, 4, 6,\n",
       "       9, 5, 7, 4, 3, 1, 5, 3, 5, 2, 8, 9, 3])"
      ]
     },
     "metadata": {},
     "execution_count": 52
    }
   ],
   "source": [
    "ser6 = np.array(ser6)\n",
    "ser6"
   ]
  },
  {
   "cell_type": "code",
   "execution_count": 54,
   "metadata": {},
   "outputs": [
    {
     "output_type": "execute_result",
     "data": {
      "text/plain": [
       "count    35.000000\n",
       "mean      5.457143\n",
       "std       2.392917\n",
       "min       1.000000\n",
       "25%       3.500000\n",
       "50%       5.000000\n",
       "75%       7.500000\n",
       "max       9.000000\n",
       "dtype: float64"
      ]
     },
     "metadata": {},
     "execution_count": 54
    }
   ],
   "source": [
    "ser6.describe()"
   ]
  },
  {
   "cell_type": "code",
   "execution_count": 56,
   "metadata": {},
   "outputs": [
    {
     "output_type": "stream",
     "name": "stdout",
     "text": [
      "tong cac phan tu trong ser6 la: 191\nphan tu co tan suat xuat hien nhieu nhat trong ser6 la: 5\n"
     ]
    }
   ],
   "source": [
    "print('tong cac phan tu trong ser6 la:',ser6.sum())\n",
    "print('phan tu co tan suat xuat hien nhieu nhat trong ser6 la:', ser6.mode()[0])"
   ]
  },
  {
   "cell_type": "code",
   "execution_count": 57,
   "metadata": {},
   "outputs": [
    {
     "output_type": "execute_result",
     "data": {
      "text/plain": [
       "8     6\n",
       "11    6\n",
       "21    6\n",
       "dtype: int32"
      ]
     },
     "metadata": {},
     "execution_count": 57
    }
   ],
   "source": [
    "ser6[(ser6%2 == 0) & (ser6%3 == 0)]"
   ]
  },
  {
   "cell_type": "code",
   "execution_count": 59,
   "metadata": {},
   "outputs": [
    {
     "output_type": "stream",
     "name": "stdout",
     "text": [
      "0     9\n5     8\n10    5\n15    5\ndtype: int32\n"
     ]
    }
   ],
   "source": [
    "print(ser6[[0,5,10,15]])"
   ]
  },
  {
   "cell_type": "code",
   "execution_count": 60,
   "metadata": {},
   "outputs": [
    {
     "output_type": "stream",
     "name": "stdout",
     "text": [
      "[9 7 3 8 2 6 5 4 1]\n"
     ]
    }
   ],
   "source": [
    "print(ser6.unique())"
   ]
  },
  {
   "cell_type": "code",
   "execution_count": 62,
   "metadata": {},
   "outputs": [
    {
     "output_type": "stream",
     "name": "stdout",
     "text": [
      "0    729\n1    729\n2    343\n3     27\n4    729\ndtype: int64\n30    125\n31      8\n32    512\n33    729\n34     27\ndtype: int64\n"
     ]
    }
   ],
   "source": [
    "ser7 = ser6.map(lambda x: x**3)\n",
    "print(ser7.head())\n",
    "print(ser7.tail())"
   ]
  },
  {
   "source": [
    "tạo series từ list, chuỗi và biểu thức điều kiện\n"
   ],
   "cell_type": "markdown",
   "metadata": {}
  },
  {
   "cell_type": "code",
   "execution_count": 63,
   "metadata": {},
   "outputs": [],
   "source": [
    "lst = ['abc', 'defg', 'htmlj', 'dfg', 'ljsac']"
   ]
  },
  {
   "cell_type": "code",
   "execution_count": 64,
   "metadata": {},
   "outputs": [
    {
     "output_type": "execute_result",
     "data": {
      "text/plain": [
       "0      abc\n",
       "1     defg\n",
       "2    htmlj\n",
       "3      dfg\n",
       "4    ljsac\n",
       "dtype: object"
      ]
     },
     "metadata": {},
     "execution_count": 64
    }
   ],
   "source": [
    "#create series from a given list\n",
    "ser_chuoi = pd.Series(lst)\n",
    "ser_chuoi"
   ]
  },
  {
   "cell_type": "code",
   "execution_count": 69,
   "metadata": {},
   "outputs": [
    {
     "output_type": "execute_result",
     "data": {
      "text/plain": [
       "0    3\n",
       "1    4\n",
       "2    5\n",
       "3    3\n",
       "4    5\n",
       "dtype: int64"
      ]
     },
     "metadata": {},
     "execution_count": 69
    }
   ],
   "source": [
    "#create a series with value is the length of each value in the given series\n",
    "ser_dodai = pd.Series(len (x) for x in ser_chuoi)\n",
    "ser_dodai"
   ]
  },
  {
   "cell_type": "code",
   "execution_count": 76,
   "metadata": {},
   "outputs": [
    {
     "output_type": "execute_result",
     "data": {
      "text/plain": [
       "0    1\n",
       "1    2\n",
       "2    4\n",
       "3    5\n",
       "4    8\n",
       "5    7\n",
       "6    6\n",
       "7    9\n",
       "dtype: int32"
      ]
     },
     "metadata": {},
     "execution_count": 76
    }
   ],
   "source": [
    "ser = pd.Series(np.array([1,2,4,5,8,7,6,9]))\n",
    "ser"
   ]
  },
  {
   "cell_type": "code",
   "execution_count": 72,
   "metadata": {},
   "outputs": [],
   "source": [
    "import math\n",
    "def lasnt(n):\n",
    "    if n<=1:\n",
    "        return False\n",
    "    elif n>1:\n",
    "        for i in range (2, int(sqrt(n)+1)):\n",
    "            if n%i == 0:\n",
    "                return False\n",
    "    return True\n"
   ]
  },
  {
   "cell_type": "code",
   "execution_count": null,
   "metadata": {},
   "outputs": [],
   "source": []
  }
 ]
}