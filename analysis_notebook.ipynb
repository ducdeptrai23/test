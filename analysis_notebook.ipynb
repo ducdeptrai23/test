{
 "metadata": {
  "language_info": {
   "codemirror_mode": {
    "name": "ipython",
    "version": 3
   },
   "file_extension": ".py",
   "mimetype": "text/x-python",
   "name": "python",
   "nbconvert_exporter": "python",
   "pygments_lexer": "ipython3",
   "version": "3.8.8"
  },
  "orig_nbformat": 4,
  "kernelspec": {
   "name": "python3",
   "display_name": "Python 3.8.8 64-bit ('base': conda)"
  },
  "interpreter": {
   "hash": "b3ba2566441a7c06988d0923437866b63cedc61552a5af99d1f4fb67d367b25f"
  }
 },
 "nbformat": 4,
 "nbformat_minor": 2,
 "cells": [
  {
   "cell_type": "code",
   "execution_count": 1,
   "metadata": {},
   "outputs": [
    {
     "output_type": "stream",
     "name": "stdout",
     "text": [
      "['CSi_exp1(US,IND)', 'EMiCN_0607_1107', 'ESa', 'SRa_0707_1007', 'SRa_exp31', 'SZi 2005 - 0106', 'SZi_1806-2406', 'SZi_1806-2406_exp2', 'SZi_Exp3(1)', 'SZi_exp3']\n"
     ]
    }
   ],
   "source": [
    "import pandas as pd\n",
    "import os\n",
    "from os import listdir\n",
    "from os.path import isfile,join\n",
    "import numpy as np\n",
    "    \n",
    "def load_data():\n",
    "    file_path=os.getcwd()\n",
    "    data_path=file_path+'\\\\'+'data'\n",
    "    file_names=[\".\".join(f.split(\".\")[:-1]) for f in listdir(data_path) if isfile (join(data_path,f))] \n",
    "    full_file_names=[f for f in listdir(data_path) if isfile (join(data_path,f))]\n",
    "    z=0\n",
    "    files_ready=[]\n",
    "    for f,r in zip(file_names,full_file_names):\n",
    "        globals()[f]=pd.read_csv(data_path+'\\\\'+r,sep=',')        \n",
    "        files_ready.append(f)\n",
    "        z+=1\n",
    "    return print(files_ready)\n",
    "load_data()"
   ]
  },
  {
   "cell_type": "code",
   "execution_count": 2,
   "metadata": {},
   "outputs": [],
   "source": [
    "data = EMiCN_0607_1107.copy()"
   ]
  },
  {
   "cell_type": "code",
   "execution_count": 3,
   "metadata": {},
   "outputs": [
    {
     "output_type": "stream",
     "name": "stdout",
     "text": [
      "1.0.3\nMax act_date:  2021-07-12 00:00:00\nMax act_date after:  2021-07-11 00:00:00\n Max day0:  2021-07-08 00:00:00 \n Min day0:  2021-07-06 00:00:00\n"
     ]
    },
    {
     "output_type": "execute_result",
     "data": {
      "text/plain": [
       "<pandas.io.formats.style.Styler at 0x1ba955800d0>"
      ],
      "text/html": "<style  type=\"text/css\" >\n</style><table id=\"T_039fd_\" ><thead>    <tr>        <th class=\"blank level0\" ></th>        <th class=\"col_heading level0 col0\" >dau</th>        <th class=\"col_heading level0 col1\" >time_in_game_sum</th>        <th class=\"col_heading level0 col2\" >battle_play_sum</th>        <th class=\"col_heading level0 col3\" >battle_end_sum</th>        <th class=\"col_heading level0 col4\" >rv_imp_sum</th>        <th class=\"col_heading level0 col5\" >is_imp_sum</th>    </tr>    <tr>        <th class=\"index_name level0\" >day_diff</th>        <th class=\"blank\" ></th>        <th class=\"blank\" ></th>        <th class=\"blank\" ></th>        <th class=\"blank\" ></th>        <th class=\"blank\" ></th>        <th class=\"blank\" ></th>    </tr></thead><tbody>\n                <tr>\n                        <th id=\"T_039fd_level0_row0\" class=\"row_heading level0 row0\" >0</th>\n                        <td id=\"T_039fd_row0_col0\" class=\"data row0 col0\" >100.00%</td>\n                        <td id=\"T_039fd_row0_col1\" class=\"data row0 col1\" >732.091009</td>\n                        <td id=\"T_039fd_row0_col2\" class=\"data row0 col2\" >13.838346</td>\n                        <td id=\"T_039fd_row0_col3\" class=\"data row0 col3\" >12.017857</td>\n                        <td id=\"T_039fd_row0_col4\" class=\"data row0 col4\" >4.715226</td>\n                        <td id=\"T_039fd_row0_col5\" class=\"data row0 col5\" >2.384398</td>\n            </tr>\n            <tr>\n                        <th id=\"T_039fd_level0_row1\" class=\"row_heading level0 row1\" >1</th>\n                        <td id=\"T_039fd_row1_col0\" class=\"data row1 col0\" >22.65%</td>\n                        <td id=\"T_039fd_row1_col1\" class=\"data row1 col1\" >791.547041</td>\n                        <td id=\"T_039fd_row1_col2\" class=\"data row1 col2\" >15.987552</td>\n                        <td id=\"T_039fd_row1_col3\" class=\"data row1 col3\" >14.087137</td>\n                        <td id=\"T_039fd_row1_col4\" class=\"data row1 col4\" >5.170124</td>\n                        <td id=\"T_039fd_row1_col5\" class=\"data row1 col5\" >2.871369</td>\n            </tr>\n            <tr>\n                        <th id=\"T_039fd_level0_row2\" class=\"row_heading level0 row2\" >2</th>\n                        <td id=\"T_039fd_row2_col0\" class=\"data row2 col0\" >12.50%</td>\n                        <td id=\"T_039fd_row2_col1\" class=\"data row2 col1\" >609.729286</td>\n                        <td id=\"T_039fd_row2_col2\" class=\"data row2 col2\" >12.872180</td>\n                        <td id=\"T_039fd_row2_col3\" class=\"data row2 col3\" >10.917293</td>\n                        <td id=\"T_039fd_row2_col4\" class=\"data row2 col4\" >3.834586</td>\n                        <td id=\"T_039fd_row2_col5\" class=\"data row2 col5\" >2.330827</td>\n            </tr>\n            <tr>\n                        <th id=\"T_039fd_level0_row3\" class=\"row_heading level0 row3\" >3</th>\n                        <td id=\"T_039fd_row3_col0\" class=\"data row3 col0\" >9.68%</td>\n                        <td id=\"T_039fd_row3_col1\" class=\"data row3 col1\" >550.664117</td>\n                        <td id=\"T_039fd_row3_col2\" class=\"data row3 col2\" >12.300971</td>\n                        <td id=\"T_039fd_row3_col3\" class=\"data row3 col3\" >10.233010</td>\n                        <td id=\"T_039fd_row3_col4\" class=\"data row3 col4\" >2.786408</td>\n                        <td id=\"T_039fd_row3_col5\" class=\"data row3 col5\" >2.320388</td>\n            </tr>\n            <tr>\n                        <th id=\"T_039fd_level0_row4\" class=\"row_heading level0 row4\" >Grand Total</th>\n                        <td id=\"T_039fd_row4_col0\" class=\"data row4 col0\" >nan%</td>\n                        <td id=\"T_039fd_row4_col1\" class=\"data row4 col1\" >1040.902321</td>\n                        <td id=\"T_039fd_row4_col2\" class=\"data row4 col2\" >20.259398</td>\n                        <td id=\"T_039fd_row4_col3\" class=\"data row4 col3\" >17.563910</td>\n                        <td id=\"T_039fd_row4_col4\" class=\"data row4 col4\" >6.635338</td>\n                        <td id=\"T_039fd_row4_col5\" class=\"data row4 col5\" >3.550752</td>\n            </tr>\n    </tbody></table>"
     },
     "metadata": {},
     "execution_count": 3
    }
   ],
   "source": [
    "import pandas as pd\n",
    "from datetime import timedelta\n",
    "\n",
    "metrics = ['dau','time_in_game_sum', 'battle_play_sum', 'battle_end_sum', 'rv_imp_sum', 'is_imp_sum']\n",
    "app_version = '1.0.3' #change app_version\n",
    "country = 'Japan'\n",
    "media_source = 'Organic'\n",
    "\n",
    "\n",
    "def gameinfo(data, day_window = 3, **kwargs):\n",
    "    #cast day0date and act date to date\n",
    "    data['day0_date'] = pd.to_datetime(data['day0_date'])\n",
    "    data['act_date'] = pd.to_datetime(data['act_date'])\n",
    "\n",
    "    print(\"Max act_date: \", data['act_date'].max()) #find max act_date\n",
    "    data = data[data['act_date'] < data['act_date'].max()] #drop max act_date \n",
    "    print(\"Max act_date after: \", data['act_date'].max()) #max act_date after drop\n",
    "    data = data[data['day0_date']<=data['act_date'].max()-timedelta(days=day_window)] #find range day0_date\n",
    "    print(\" Max day0: \", data['day0_date'].max(), '\\n', \"Min day0: \", data['day0_date'].min())\n",
    "    try:\n",
    "        data = data[data['event_segment'] == 'app_update--FALSE']\n",
    "        data = data[data['app_version'] == app_version]\n",
    "        data = data[data['country'] == country]\n",
    "        data = data[data['media_source'] == media_source]\n",
    "    except:\n",
    "        pass\n",
    "    data_grouped = data[(data['day_diff']<=day_window) & (data['day_diff']>= 0)]\n",
    "    data_grouped = data_grouped.groupby('day_diff')[metrics].sum()\n",
    "    data_grouped.loc['Grand Total'] = data_grouped.iloc[:,1:].sum()\n",
    "    data_grouped.iloc[:-1,1:] = data_grouped.iloc[:-1,1:].div(data_grouped.iloc[:-1,0], axis=0)\n",
    "    data_grouped.iloc[-1,1:] = data_grouped.iloc[-1,1:]/data_grouped.iloc[0,0]\n",
    "    data_grouped['dau'] = data_grouped['dau']/data_grouped.iloc[0,0]\n",
    "    data_grouped = data_grouped.style.format({'dau': \"{:.2%}\"})\n",
    "    return data_grouped\n",
    "print(app_version)\n",
    "gameinfo(data, day_window = 3)"
   ]
  },
  {
   "cell_type": "code",
   "execution_count": 4,
   "metadata": {},
   "outputs": [
    {
     "output_type": "stream",
     "name": "stdout",
     "text": [
      "App version:  1.0.3\n"
     ]
    },
    {
     "output_type": "execute_result",
     "data": {
      "text/plain": [
       "              dau  user_left drop_rate\n",
       "stage                                 \n",
       "0             984     3229.0    76.64%\n",
       "1             457     2772.0    65.80%\n",
       "2             113     2659.0    63.11%\n",
       "3             103     2556.0    60.67%\n",
       "4              46     2510.0    59.58%\n",
       "5              53     2457.0    58.32%\n",
       "6             239     2218.0    52.65%\n",
       "7             269     1949.0    46.26%\n",
       "8             191     1758.0    41.73%\n",
       "9             218     1540.0    36.55%\n",
       "10             76     1464.0    34.75%\n",
       "11            121     1343.0    31.88%\n",
       "12             88     1255.0    29.79%\n",
       "13             19     1236.0    29.34%\n",
       "14             78     1158.0    27.49%\n",
       "15             32     1126.0    26.73%\n",
       "16             16     1110.0    26.35%\n",
       "17             29     1081.0    25.66%\n",
       "18             33     1048.0    24.88%\n",
       "19           1048        0.0     0.00%\n",
       "Grand Total  4213        NaN      nan%"
      ],
      "text/html": "<div>\n<style scoped>\n    .dataframe tbody tr th:only-of-type {\n        vertical-align: middle;\n    }\n\n    .dataframe tbody tr th {\n        vertical-align: top;\n    }\n\n    .dataframe thead th {\n        text-align: right;\n    }\n</style>\n<table border=\"1\" class=\"dataframe\">\n  <thead>\n    <tr style=\"text-align: right;\">\n      <th></th>\n      <th>dau</th>\n      <th>user_left</th>\n      <th>drop_rate</th>\n    </tr>\n    <tr>\n      <th>stage</th>\n      <th></th>\n      <th></th>\n      <th></th>\n    </tr>\n  </thead>\n  <tbody>\n    <tr>\n      <th>0</th>\n      <td>984</td>\n      <td>3229.0</td>\n      <td>76.64%</td>\n    </tr>\n    <tr>\n      <th>1</th>\n      <td>457</td>\n      <td>2772.0</td>\n      <td>65.80%</td>\n    </tr>\n    <tr>\n      <th>2</th>\n      <td>113</td>\n      <td>2659.0</td>\n      <td>63.11%</td>\n    </tr>\n    <tr>\n      <th>3</th>\n      <td>103</td>\n      <td>2556.0</td>\n      <td>60.67%</td>\n    </tr>\n    <tr>\n      <th>4</th>\n      <td>46</td>\n      <td>2510.0</td>\n      <td>59.58%</td>\n    </tr>\n    <tr>\n      <th>5</th>\n      <td>53</td>\n      <td>2457.0</td>\n      <td>58.32%</td>\n    </tr>\n    <tr>\n      <th>6</th>\n      <td>239</td>\n      <td>2218.0</td>\n      <td>52.65%</td>\n    </tr>\n    <tr>\n      <th>7</th>\n      <td>269</td>\n      <td>1949.0</td>\n      <td>46.26%</td>\n    </tr>\n    <tr>\n      <th>8</th>\n      <td>191</td>\n      <td>1758.0</td>\n      <td>41.73%</td>\n    </tr>\n    <tr>\n      <th>9</th>\n      <td>218</td>\n      <td>1540.0</td>\n      <td>36.55%</td>\n    </tr>\n    <tr>\n      <th>10</th>\n      <td>76</td>\n      <td>1464.0</td>\n      <td>34.75%</td>\n    </tr>\n    <tr>\n      <th>11</th>\n      <td>121</td>\n      <td>1343.0</td>\n      <td>31.88%</td>\n    </tr>\n    <tr>\n      <th>12</th>\n      <td>88</td>\n      <td>1255.0</td>\n      <td>29.79%</td>\n    </tr>\n    <tr>\n      <th>13</th>\n      <td>19</td>\n      <td>1236.0</td>\n      <td>29.34%</td>\n    </tr>\n    <tr>\n      <th>14</th>\n      <td>78</td>\n      <td>1158.0</td>\n      <td>27.49%</td>\n    </tr>\n    <tr>\n      <th>15</th>\n      <td>32</td>\n      <td>1126.0</td>\n      <td>26.73%</td>\n    </tr>\n    <tr>\n      <th>16</th>\n      <td>16</td>\n      <td>1110.0</td>\n      <td>26.35%</td>\n    </tr>\n    <tr>\n      <th>17</th>\n      <td>29</td>\n      <td>1081.0</td>\n      <td>25.66%</td>\n    </tr>\n    <tr>\n      <th>18</th>\n      <td>33</td>\n      <td>1048.0</td>\n      <td>24.88%</td>\n    </tr>\n    <tr>\n      <th>19</th>\n      <td>1048</td>\n      <td>0.0</td>\n      <td>0.00%</td>\n    </tr>\n    <tr>\n      <th>Grand Total</th>\n      <td>4213</td>\n      <td>NaN</td>\n      <td>nan%</td>\n    </tr>\n  </tbody>\n</table>\n</div>"
     },
     "metadata": {},
     "execution_count": 4
    }
   ],
   "source": [
    "app_version = '1.0.3' #change app_version\n",
    "country = 'Japan'\n",
    "# media_source = 'Organic'\n",
    "try:\n",
    "    data = data[data['event_segment'] == 'app_update--FALSE']\n",
    "    data = data[data['app_version'] == app_version]\n",
    "    data = data[data['country'] == country]\n",
    "    data = data[data['media_source'] == media_source]\n",
    "except:\n",
    "    pass\n",
    "\n",
    "max_stage = data.groupby('resettable_device_id_or_app_instance_id')['max_stage_story'].max().reset_index()\n",
    "max_stage = max_stage.groupby('max_stage_story').agg('count').rename({'resettable_device_id_or_app_instance_id':'dau'}, axis=1)\n",
    "max_stage.loc['Grand Total'] = max_stage.sum()\n",
    "user_left = [max_stage.iloc[-1,:] - max_stage.iloc[0,0]]\n",
    "dau = pd.Series(max_stage.dau)\n",
    "for row in dau.index[1:-1]:\n",
    "    user_left.append(user_left[row-1] - dau[row])\n",
    "user_left = pd.DataFrame(user_left).reset_index(drop=True)\n",
    "max_stage = pd.concat([max_stage, user_left], axis=1)\n",
    "max_stage.index.names = ['stage']\n",
    "max_stage.columns = ['dau','user_left']\n",
    "max_stage['drop_rate'] = (max_stage.user_left / max_stage.iloc[-1,0]).map(\"{:.2%}\".format)\n",
    "print(\"App version: \", app_version)\n",
    "max_stage"
   ]
  },
  {
   "cell_type": "code",
   "execution_count": null,
   "metadata": {},
   "outputs": [],
   "source": []
  }
 ]
}